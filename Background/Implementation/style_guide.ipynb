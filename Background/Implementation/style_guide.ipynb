{
 "cells": [
  {
   "cell_type": "markdown",
   "metadata": {},
   "source": [
    "This is my attempt at a style guide. Things are copy-pasted-deleted-modified here as they develop from the Engineering Notebook."
   ]
  },
  {
   "cell_type": "markdown",
   "metadata": {},
   "source": [
    "My take on variables as I come across them:\n",
    "\n",
    "| Variable Name | Description | Data Type and Shape |\n",
    "| --- | --- | --- |\n",
    "| `particle_xyz_global` | full list of particle positions | array of size $[N,3]$ |\n",
    "| `particle_xyz_local` | a single particle location | array of size $[N,]$ |\n",
    "| `hash_counts_global` | full list of the number of times the hash at each index occurs | array of size $[M,]$ |"
   ]
  }
 ],
 "metadata": {
  "language_info": {
   "name": "python"
  }
 },
 "nbformat": 4,
 "nbformat_minor": 2
}
