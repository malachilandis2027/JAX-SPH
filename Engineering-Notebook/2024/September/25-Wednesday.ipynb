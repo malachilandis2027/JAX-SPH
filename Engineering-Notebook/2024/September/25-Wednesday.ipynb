{
 "cells": [
  {
   "cell_type": "code",
   "execution_count": 1,
   "metadata": {},
   "outputs": [],
   "source": [
    "import jax\n",
    "import jax.numpy as jnp\n",
    "import numpy as onp\n",
    "import sys, os\n",
    "sys.path.append(os.path.realpath('../../../Functions'))\n",
    "import tensile_bar\n",
    "import pyvista"
   ]
  },
  {
   "cell_type": "code",
   "execution_count": 2,
   "metadata": {},
   "outputs": [
    {
     "name": "stdout",
     "output_type": "stream",
     "text": [
      "Generated 53091 points!\n"
     ]
    }
   ],
   "source": [
    "grip_width = 20\n",
    "grip_length = 20\n",
    "gage_width = 10\n",
    "gage_length = 30\n",
    "thickness = 4\n",
    "fillet_major_diameter = 30\n",
    "fillet_minor_diameter = 20\n",
    "ideal_spacing = 0.5\n",
    "\n",
    "tensile_bar_ids = tensile_bar.get_tensile_bar_numbers(grip_width,\n",
    "                                                      grip_length,\n",
    "                                                      gage_width,\n",
    "                                                      gage_length,\n",
    "                                                      thickness,\n",
    "                                                      fillet_major_diameter,\n",
    "                                                      fillet_minor_diameter,\n",
    "                                                      ideal_spacing)\n",
    "\n",
    "tensile_bar_positions = tensile_bar.get_tensile_bar_positions(grip_width,\n",
    "                                                              grip_length,\n",
    "                                                              gage_width,\n",
    "                                                              gage_length,\n",
    "                                                              thickness,\n",
    "                                                              fillet_major_diameter,\n",
    "                                                              fillet_minor_diameter,\n",
    "                                                              tensile_bar_ids)\n",
    "\n",
    "print(\"Generated {} points!\".format(tensile_bar_positions.shape[0]))"
   ]
  },
  {
   "cell_type": "code",
   "execution_count": 3,
   "metadata": {},
   "outputs": [
    {
     "data": {
      "application/vnd.jupyter.widget-view+json": {
       "model_id": "9931a3bb2a68454eafbb78771d39d1ab",
       "version_major": 2,
       "version_minor": 0
      },
      "text/plain": [
       "Widget(value='<iframe src=\"http://localhost:58133/index.html?ui=P_0x2409aca3b60_0&reconnect=auto\" class=\"pyvis…"
      ]
     },
     "metadata": {},
     "output_type": "display_data"
    }
   ],
   "source": [
    "points = onp.array(tensile_bar_positions)\n",
    "ids = onp.array(tensile_bar_ids)\n",
    "pyvista.plot(\n",
    "    points,\n",
    "    scalars=ids[:, 3],\n",
    "    render_points_as_spheres=True,\n",
    "    point_size=20,\n",
    "    show_scalar_bar=False,\n",
    ")\n"
   ]
  },
  {
   "cell_type": "markdown",
   "metadata": {},
   "source": [
    "Now that we can easily generate some nice tensile bars that (appear to) play nicely, we can try doing something vaguely SPH-related.\n",
    "\n",
    "First we need to generate the neighborhoods."
   ]
  },
  {
   "cell_type": "markdown",
   "metadata": {},
   "source": []
  }
 ],
 "metadata": {
  "kernelspec": {
   "display_name": "Python 3",
   "language": "python",
   "name": "python3"
  },
  "language_info": {
   "codemirror_mode": {
    "name": "ipython",
    "version": 3
   },
   "file_extension": ".py",
   "mimetype": "text/x-python",
   "name": "python",
   "nbconvert_exporter": "python",
   "pygments_lexer": "ipython3",
   "version": "3.12.0"
  }
 },
 "nbformat": 4,
 "nbformat_minor": 2
}
