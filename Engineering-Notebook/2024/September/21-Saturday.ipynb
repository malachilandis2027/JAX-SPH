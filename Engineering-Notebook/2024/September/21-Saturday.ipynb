{
 "cells": [
  {
   "cell_type": "markdown",
   "metadata": {},
   "source": [
    "I would like to think more about the data structure we will be using. It seems we should get this nailed down now before it causes any problems later. I'm thinking about JAX-FEM and how people don't necessarily like how certain things are done, and it's hard to fix those kinds of things later.\n",
    "\n",
    "JAX works with \"pytrees\" - see https://jax.readthedocs.io/en/latest/pytrees.html - so can particles be pytrees?"
   ]
  },
  {
   "cell_type": "markdown",
   "metadata": {},
   "source": [
    "Short answer: no - see https://github.com/jax-ml/jax/discussions/5322\n",
    "\n",
    "Rather, the different properties of particles, like their positions, masses, etc. should all be grouped into one array each.\n",
    "\n",
    "Good article that mentions contact: https://iopscience.iop.org/article/10.1088/1742-6596/1268/1/012077/pdf\n",
    "\n"
   ]
  }
 ],
 "metadata": {
  "kernelspec": {
   "display_name": "Python 3",
   "language": "python",
   "name": "python3"
  },
  "language_info": {
   "codemirror_mode": {
    "name": "ipython",
    "version": 3
   },
   "file_extension": ".py",
   "mimetype": "text/x-python",
   "name": "python",
   "nbconvert_exporter": "python",
   "pygments_lexer": "ipython3",
   "version": "3.12.0"
  }
 },
 "nbformat": 4,
 "nbformat_minor": 2
}
