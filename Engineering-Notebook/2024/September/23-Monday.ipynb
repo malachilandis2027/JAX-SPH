{
 "cells": [
  {
   "cell_type": "markdown",
   "metadata": {},
   "source": [
    "I want to build off Sunday's work by wrapping the tensile bar stuff into one function and seeing if I can speed things up a bit."
   ]
  },
  {
   "cell_type": "code",
   "execution_count": 51,
   "metadata": {},
   "outputs": [],
   "source": [
    "import jax.numpy as jnp\n",
    "import jax\n",
    "\n",
    "import pyvista\n",
    "import numpy as onp\n",
    "pyvista.set_jupyter_backend('client')"
   ]
  },
  {
   "cell_type": "markdown",
   "metadata": {},
   "source": [
    "I think I will have to split things up. One function will get the numbers of points in the different directions, the other will generate the actual point positions. This is so the point position generator will be jitable and differentiable. Maybe they can be wrapped together if jitability is not important?"
   ]
  },
  {
   "cell_type": "code",
   "execution_count": 52,
   "metadata": {},
   "outputs": [],
   "source": [
    "def get_tensile_bar_numbers(grip_width:            float,\n",
    "                            grip_length:           float,\n",
    "                            gage_width:            float,\n",
    "                            gage_length:           float,\n",
    "                            thickness:             float,\n",
    "                            fillet_major_diameter: float,\n",
    "                            fillet_minor_diameter: float,\n",
    "                            ideal_spacing:         float\n",
    "                            ) -> jnp.array:\n",
    "    # just to get the coordinates straight, (0,0,0) is in the middle of the gage section, middle of the thickness\n",
    "    # the y axis is pointing vertically along the tensile direction\n",
    "\n",
    "    # center point of the fillet in the first quadrant\n",
    "    fillet_center_x = fillet_minor_diameter/2 + gage_width/2\n",
    "    fillet_center_y = gage_length/2\n",
    "\n",
    "    # point where the fillet changes to the grip section\n",
    "    fillet_upper_corner_x = grip_width/2\n",
    "    fillet_upper_corner_y = ((1 - (grip_width/2 - fillet_center_x)**2 / (fillet_minor_diameter/2)**2) * (fillet_major_diameter/2)**2)**0.5 + fillet_center_y\n",
    "\n",
    "    # length of the fillet region\n",
    "    fillet_length = fillet_upper_corner_y - gage_length/2\n",
    "\n",
    "    # number of particles in the different regions along y\n",
    "    num_p_grip_y = int(grip_length/ideal_spacing)\n",
    "    num_p_fillet_y = int(fillet_length/ideal_spacing)+2\n",
    "    num_p_gage_y = int(gage_length/ideal_spacing)-1\n",
    "\n",
    "    # determine the number of particles along z\n",
    "    num_p_z = int(thickness/ideal_spacing)+1\n",
    "\n",
    "    # starting from the bottom grip\n",
    "    num_p_grip_x = int(grip_width/ideal_spacing)+1\n",
    "    widths = jnp.repeat(num_p_grip_x,num_p_grip_y)\n",
    "    heights = jnp.repeat(num_p_grip_y,num_p_grip_y)\n",
    "    x_ids = jnp.repeat(jnp.repeat(jnp.arange(0,num_p_grip_x),num_p_grip_y),num_p_z)\n",
    "    y_ids = jnp.tile(jnp.tile(jnp.arange(0,num_p_grip_y),num_p_z),num_p_grip_x)\n",
    "    z_ids = jnp.tile(jnp.tile(jnp.arange(0,num_p_z),num_p_grip_x),num_p_grip_y)\n",
    "    xyz_ids = jnp.stack([x_ids,y_ids,z_ids],axis=1)\n",
    "    section_ids = jnp.repeat(0,num_p_grip_y)\n",
    "\n",
    "    # now the lower fillet\n",
    "    y = jnp.linspace(-fillet_upper_corner_y,-gage_length/2,num_p_fillet_y)\n",
    "    w = (fillet_center_x - ((1 - (y+fillet_center_y)**2 / (fillet_major_diameter/2)**2) * (fillet_minor_diameter/2)**2)**0.5)*2\n",
    "    for j in range(num_p_fillet_y):\n",
    "        num_p_fillet_x = int(w[j]/ideal_spacing)+1\n",
    "        widths = jnp.concatenate([widths,jnp.array([num_p_fillet_x])])\n",
    "        heights = jnp.concatenate([heights,jnp.array([num_p_fillet_y])])\n",
    "        x_ids = jnp.repeat(jnp.arange(0,num_p_fillet_x),num_p_z)\n",
    "        y_ids = jnp.repeat(j+num_p_grip_y,num_p_fillet_x*num_p_z)\n",
    "        z_ids = jnp.tile(jnp.arange(0,num_p_z),num_p_fillet_x)\n",
    "        xyz_ids = jnp.concatenate([xyz_ids,jnp.stack([x_ids,y_ids,z_ids],axis=1)],axis=0)\n",
    "        section_ids = jnp.concatenate([section_ids,jnp.array([1])])\n",
    "\n",
    "    # the gage section\n",
    "    num_p_gage_x = int(gage_width/ideal_spacing)+1\n",
    "    widths = jnp.concatenate([widths,jnp.repeat(num_p_gage_x,num_p_gage_y)])\n",
    "    heights = jnp.concatenate([heights,jnp.repeat(num_p_gage_y,num_p_gage_y)])\n",
    "    x_ids = jnp.repeat(jnp.repeat(jnp.arange(0,num_p_gage_x),num_p_gage_y),num_p_z)\n",
    "    y_ids = jnp.tile(jnp.tile(jnp.arange(num_p_grip_y+num_p_fillet_y,num_p_grip_y+num_p_fillet_y+num_p_gage_y),num_p_z),num_p_gage_x)\n",
    "    z_ids = jnp.tile(jnp.tile(jnp.arange(0,num_p_z),num_p_gage_x),num_p_gage_y)\n",
    "    xyz_ids = jnp.concatenate([xyz_ids,jnp.stack([x_ids,y_ids,z_ids],axis=1)],axis=0)\n",
    "    section_ids = jnp.concatenate([section_ids,jnp.repeat(2,num_p_gage_y)])\n",
    "\n",
    "    # the upper fillet\n",
    "    y = jnp.linspace(gage_length/2,fillet_upper_corner_y,num_p_fillet_y)\n",
    "    w = (fillet_center_x - ((1 - (y-fillet_center_y)**2 / (fillet_major_diameter/2)**2) * (fillet_minor_diameter/2)**2)**0.5)*2\n",
    "    for j in range(num_p_fillet_y):\n",
    "        num_p_fillet_x = int(w[j]/ideal_spacing)+1\n",
    "        widths = jnp.concatenate([widths,jnp.array([num_p_fillet_x])])\n",
    "        heights = jnp.concatenate([heights,jnp.array([num_p_fillet_y])])\n",
    "        x_ids = jnp.repeat(jnp.arange(0,num_p_fillet_x),num_p_z)\n",
    "        y_ids = jnp.repeat(j+num_p_grip_y+num_p_fillet_y+num_p_gage_y,num_p_fillet_x*num_p_z)\n",
    "        z_ids = jnp.tile(jnp.arange(0,num_p_z),num_p_fillet_x)\n",
    "        xyz_ids = jnp.concatenate([xyz_ids,jnp.stack([x_ids,y_ids,z_ids],axis=1)],axis=0)\n",
    "        section_ids = jnp.concatenate([section_ids,jnp.array([3])])\n",
    "\n",
    "    # finally the upper grip\n",
    "    widths = jnp.concatenate([widths,jnp.repeat(num_p_grip_x,num_p_grip_y)])\n",
    "    heights = jnp.concatenate([heights,jnp.repeat(num_p_grip_y,num_p_grip_y)])\n",
    "    x_ids = jnp.repeat(jnp.repeat(jnp.arange(0,num_p_grip_x),num_p_grip_y),num_p_z)\n",
    "    y_ids = jnp.tile(jnp.tile(jnp.arange(num_p_grip_y+2*num_p_fillet_y+num_p_gage_y,2*num_p_grip_y+2*num_p_fillet_y+num_p_gage_y),num_p_z),num_p_grip_x)\n",
    "    z_ids = jnp.tile(jnp.tile(jnp.arange(0,num_p_z),num_p_grip_x),num_p_grip_y)\n",
    "    xyz_ids = jnp.concatenate([xyz_ids,jnp.stack([x_ids,y_ids,z_ids],axis=1)],axis=0)\n",
    "    section_ids = jnp.concatenate([section_ids,jnp.repeat(4,num_p_grip_y)])\n",
    "\n",
    "    return xyz_ids, section_ids, widths, heights, num_p_z"
   ]
  },
  {
   "cell_type": "code",
   "execution_count": 53,
   "metadata": {},
   "outputs": [],
   "source": [
    "def get_tensile_bar_positions(grip_width:            float,\n",
    "                              grip_length:           float,\n",
    "                              gage_width:            float,\n",
    "                              gage_length:           float,\n",
    "                              thickness:             float,\n",
    "                              fillet_major_diameter: float,\n",
    "                              fillet_minor_diameter: float,\n",
    "                              ideal_spacing:         float,\n",
    "                              xyz_ids:               jnp.array,\n",
    "                              section_ids:           jnp.array,\n",
    "                              widths:                jnp.array,\n",
    "                              heights:               jnp.array,\n",
    "                              num_p_z:               int\n",
    "                              ) -> jnp.array:\n",
    "    indices = section_ids[xyz_ids[:,1]]\n",
    "\n",
    "    fillet_center_x = fillet_minor_diameter/2 + gage_width/2\n",
    "    fillet_center_y = gage_length/2\n",
    "    fillet_length = ((1 - (grip_width/2 - fillet_minor_diameter/2 - gage_width/2)**2 / (fillet_minor_diameter/2)**2) * (fillet_major_diameter/2)**2)**0.5\n",
    "\n",
    "    fillet_width_upper = lambda y: (fillet_center_x - ((1 - (y+fillet_center_y)**2 / (fillet_major_diameter/2)**2) * (fillet_minor_diameter/2)**2)**0.5)*2\n",
    "    fillet_width_lower = lambda y: (fillet_center_x - ((1 - (y-fillet_center_y)**2 / (fillet_major_diameter/2)**2) * (fillet_minor_diameter/2)**2)**0.5)*2\n",
    "\n",
    "    branches = [\n",
    "        lambda xyz_id: jnp.array([grip_width*xyz_id[0]/widths[xyz_id[1]]-grip_width/2,\n",
    "                                  grip_length*xyz_id[1]/heights[xyz_id[1]] - grip_length - gage_length/2 - fillet_length,\n",
    "                                  thickness*xyz_id[2]/num_p_z]), # lower grip\n",
    "        lambda xyz_id: jnp.array([fillet_width_lower(xyz_id[1])*xyz_id[0]/widths[xyz_id[1]] - fillet_width_lower(xyz_id[1])/2,\n",
    "                                  fillet_length*(xyz_id[1] - heights[0])/heights[xyz_id[1]] - gage_length/2 - fillet_length,\n",
    "                                  thickness*xyz_id[2]/num_p_z]), # lower fillet\n",
    "        lambda xyz_id: jnp.array([gage_width*xyz_id[0]/widths[xyz_id[1]]-gage_width/2,\n",
    "                                  gage_length*(xyz_id[1] - heights[0])/heights[xyz_id[1]] - gage_length/2,\n",
    "                                  thickness*xyz_id[2]/num_p_z]), # gage section\n",
    "        lambda xyz_id: jnp.array([fillet_width_upper(xyz_id[1])*xyz_id[0]/widths[xyz_id[1]] - fillet_width_upper(xyz_id[1])/2,\n",
    "                                  fillet_length*xyz_id[1]/heights[xyz_id[1]] + gage_length/2,\n",
    "                                  thickness*xyz_id[2]/num_p_z]), # upper fillet\n",
    "        lambda xyz_id: jnp.array([grip_width*xyz_id[0]/widths[xyz_id[1]]-grip_width/2,\n",
    "                                  grip_length*xyz_id[1]/heights[xyz_id[1]] + gage_length/2 + fillet_length,\n",
    "                                  thickness*xyz_id[2]/num_p_z]), # upper grip\n",
    "    ]\n",
    "\n",
    "    xyz_positions = jnp.vectorize(jax.lax.switch,excluded=(1,),signature='(),(m)->(n)')(indices, branches, xyz_ids)\n",
    "    \n",
    "    return xyz_positions"
   ]
  },
  {
   "cell_type": "code",
   "execution_count": 54,
   "metadata": {},
   "outputs": [],
   "source": [
    "grip_width = 10\n",
    "grip_length = 15\n",
    "gage_width = 5\n",
    "gage_length = 30\n",
    "thickness = 3\n",
    "fillet_major_diameter = 20\n",
    "fillet_minor_diameter = 10\n",
    "ideal_spacing = 1.0\n",
    "\n",
    "xyz_ids,section_ids,widths,heights,num_p_z = get_tensile_bar_numbers(grip_width,\n",
    "                                                                     grip_length,\n",
    "                                                                     gage_width,\n",
    "                                                                     gage_length,\n",
    "                                                                     thickness,\n",
    "                                                                     fillet_major_diameter,\n",
    "                                                                     fillet_minor_diameter,\n",
    "                                                                     ideal_spacing)\n",
    "\n",
    "xyz_positions = get_tensile_bar_positions(grip_width,\n",
    "                                          grip_length,\n",
    "                                          gage_width,\n",
    "                                          gage_length,\n",
    "                                          thickness,\n",
    "                                          fillet_major_diameter,\n",
    "                                          fillet_minor_diameter,\n",
    "                                          ideal_spacing,\n",
    "                                          xyz_ids,\n",
    "                                          section_ids,\n",
    "                                          widths,\n",
    "                                          heights,\n",
    "                                          num_p_z)"
   ]
  },
  {
   "cell_type": "markdown",
   "metadata": {},
   "source": [
    "Now we can convert this collection of IDs into real coordinates."
   ]
  },
  {
   "cell_type": "code",
   "execution_count": 55,
   "metadata": {},
   "outputs": [
    {
     "data": {
      "application/vnd.jupyter.widget-view+json": {
       "model_id": "3facb6c548c047b8818d8ece649d6c1f",
       "version_major": 2,
       "version_minor": 0
      },
      "text/plain": [
       "Widget(value='<iframe src=\"http://localhost:64566/index.html?ui=P_0x16c92a4ff50_1&reconnect=auto\" class=\"pyvis…"
      ]
     },
     "metadata": {},
     "output_type": "display_data"
    }
   ],
   "source": [
    "# Intensive to load here, just forewarning...\n",
    "\n",
    "pdata = pyvista.PolyData(onp.array(xyz_positions))\n",
    "sphere = pyvista.Sphere(radius = ideal_spacing/2)\n",
    "pc = pdata.glyph(scale=False, geom=sphere, orient=False)\n",
    "pc.plot()\n",
    "# pc.save(\"test.vtk\")"
   ]
  },
  {
   "cell_type": "markdown",
   "metadata": {},
   "source": [
    "OK now the following example took a while to figure out. The regular `jnp.piecewise` does not like taking a 1D input and giving a 2D output, so you have to use `jax.lax.switch`, and then you have to `jnp.vectorize` that and use the correct signature..."
   ]
  },
  {
   "cell_type": "code",
   "execution_count": 56,
   "metadata": {},
   "outputs": [],
   "source": [
    "# i = jnp.arange(0,20)\n",
    "\n",
    "# indices = jnp.where(i<10,0,1)\n",
    "\n",
    "# branches = [\n",
    "#     lambda j: jnp.array([j,j+1]),\n",
    "#     lambda j: jnp.array([2*j,3*j])\n",
    "# ]\n",
    "\n",
    "# jnp.vectorize(jax.lax.switch,excluded=(1,),signature='(),()->(n)')(indices, branches, i)\n",
    "\n",
    "# branches = [\n",
    "#     lambda j: jnp.array([j[0],j[1]]),\n",
    "#     lambda j: jnp.array([j[0],j[1]]),\n",
    "#     lambda j: jnp.array([j[0],j[1]]),\n",
    "#     lambda j: jnp.array([j[0],j[1]]),\n",
    "#     lambda j: jnp.array([j[0],j[1]])\n",
    "# ]\n",
    "\n",
    "\n",
    "# jnp.vectorize(jax.lax.switch,excluded=(1,),signature='(),(m)->(n)')(sections, branches, xyzw)"
   ]
  }
 ],
 "metadata": {
  "kernelspec": {
   "display_name": "Python 3",
   "language": "python",
   "name": "python3"
  },
  "language_info": {
   "codemirror_mode": {
    "name": "ipython",
    "version": 3
   },
   "file_extension": ".py",
   "mimetype": "text/x-python",
   "name": "python",
   "nbconvert_exporter": "python",
   "pygments_lexer": "ipython3",
   "version": "3.12.0"
  }
 },
 "nbformat": 4,
 "nbformat_minor": 2
}
