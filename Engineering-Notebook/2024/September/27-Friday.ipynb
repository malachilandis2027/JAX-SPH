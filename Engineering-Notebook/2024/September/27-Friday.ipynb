{
 "cells": [
  {
   "cell_type": "markdown",
   "metadata": {},
   "source": [
    "I just want to try out putting the kernel in that neighborhood summation to check that the values are as expected (near 1 right?)"
   ]
  },
  {
   "cell_type": "code",
   "execution_count": 2,
   "metadata": {},
   "outputs": [],
   "source": [
    "import jax\n",
    "import jax.numpy as jnp\n",
    "import numpy as onp\n",
    "import pyvista\n",
    "import matplotlib.pyplot as plt\n",
    "from functools import partial"
   ]
  },
  {
   "cell_type": "markdown",
   "metadata": {},
   "source": [
    "I'm going to need to figure out how best to label variables so I can differentiate between the entire domain and one current particle being processed.\n",
    "\n",
    "Also for vectorized stuff. I think I like to use `_0D` and `_1D` and so on appended to function names."
   ]
  },
  {
   "cell_type": "code",
   "execution_count": 86,
   "metadata": {},
   "outputs": [],
   "source": [
    "spacing = 1\n",
    "edge_size = 100\n",
    "p = int(edge_size/spacing)\n",
    "x = jnp.repeat(jnp.repeat(jnp.linspace(0,edge_size,p),p),p)\n",
    "y = jnp.repeat(jnp.tile(jnp.linspace(0,edge_size,p),p),p)\n",
    "z = jnp.tile(jnp.tile(jnp.linspace(0,edge_size,p),p),p)\n",
    "xyz = jnp.stack([x,y,z],axis=1)\n",
    "xyz_size = xyz.shape[0]\n",
    "\n",
    "@partial(jax.jit, static_argnames=[\"hash_map_size\",\"spacing\",\"prime_1\",\"prime_2\",\"prime_3\"])\n",
    "def xyz_to_hash(xyz_location:  jnp.array,\n",
    "                hash_map_size: int,\n",
    "                spacing:       float,\n",
    "                prime_1 = 73856093,\n",
    "                prime_2 = 19349663,\n",
    "                prime_3 = 83492791\n",
    "                ) -> jnp.array:\n",
    "    '''\n",
    "    Converts [N,3] array of xyz coordinates to an [N,] array of hash keys\n",
    "    '''\n",
    "    primes = jnp.array([prime_1,prime_2,prime_3])\n",
    "    alpha = jnp.floor(xyz_location/spacing).astype(int)*primes[None,:]\n",
    "    beta = jnp.bitwise_xor(jnp.bitwise_xor(alpha[:,0],alpha[:,1]),alpha[:,2])\n",
    "    hash_keys = jnp.mod(beta,hash_map_size)\n",
    "    return hash_keys\n",
    "\n",
    "@partial(jax.jit, static_argnames=[\"hash_map_size\"])\n",
    "def process_hash(hash_keys:     jnp.array,\n",
    "                 hash_map_size: int):\n",
    "    sorted_indices = jnp.argsort(hash_keys)\n",
    "    sorted_hash_keys = hash_keys[sorted_indices]\n",
    "    counts = jnp.bincount(sorted_hash_keys, length=hash_map_size)\n",
    "    offsets = jnp.cumsum(counts) - counts\n",
    "    return [sorted_indices, sorted_hash_keys, counts, offsets]\n",
    "\n",
    "@jax.jit\n",
    "def hash_to_count(hash:   int,\n",
    "                  counts: jnp.array):\n",
    "    count = counts[hash]\n",
    "    return count\n",
    "\n",
    "@jax.jit\n",
    "def hash_to_xyz(hash:           int,\n",
    "                increment:      int,\n",
    "                xyz:            jnp.array,\n",
    "                sorted_indices: jnp.array,\n",
    "                offsets:        jnp.array):\n",
    "    xyz_location = xyz[sorted_indices[offsets[hash] + increment]]\n",
    "    return xyz_location\n",
    "\n",
    "hash_map_size = 2*xyz_size\n",
    "hash_spacing = 2*spacing\n",
    "hash_keys = xyz_to_hash(xyz,hash_map_size,hash_spacing)\n",
    "sorted_indices, sorted_hash_keys, counts, offsets = process_hash(hash_keys, hash_map_size)\n",
    "\n",
    "o = jnp.array([-hash_spacing,0,hash_spacing])\n",
    "o_x = jnp.repeat(jnp.repeat(o,3),3)\n",
    "o_y = jnp.repeat(jnp.tile(o,3),3)\n",
    "o_z = jnp.tile(jnp.tile(o,3),3)\n",
    "o_xyz = jnp.stack([o_x,o_y,o_z],axis=1)\n",
    "\n",
    "@jax.jit\n",
    "def kernel(distance, smoothing_length):\n",
    "    q = distance/smoothing_length\n",
    "    M = jnp.piecewise(q,[q<2,q<1],[(2-q)**3, (2-q)**3 - 4*(1-q)**3, 0])\n",
    "    return (1/(4*jnp.pi))*M\n",
    "\n",
    "kernel_v = jax.vmap(kernel,in_axes=(0,None))"
   ]
  },
  {
   "cell_type": "code",
   "execution_count": 92,
   "metadata": {},
   "outputs": [],
   "source": [
    "@jax.jit\n",
    "def increment_kernel_inner(i,inner_carry):\n",
    "    kernel_tot, center_xyz, xyz, hash, sorted_indices, offsets, smoothing_length = inner_carry\n",
    "    other_xyz = hash_to_xyz(hash, i, xyz, sorted_indices, offsets)\n",
    "    distance = jnp.sqrt(jnp.sum(jnp.square(center_xyz - other_xyz)))\n",
    "    kernel_tot = kernel_tot + kernel(distance, smoothing_length)\n",
    "    inner_carry = (kernel_tot, center_xyz, xyz, hash, sorted_indices, offsets, smoothing_length)\n",
    "    return inner_carry\n",
    "\n",
    "@jax.jit\n",
    "def increment_kernel_outer(i,outer_carry):\n",
    "    kernel_tot, center_xyz, xyz, hashes, counts, sorted_indices, smoothing_length = outer_carry\n",
    "    hash = hashes[i]\n",
    "    count = counts[hash]\n",
    "    inner_carry = (kernel_tot, center_xyz, xyz, hash, sorted_indices, offsets, smoothing_length)\n",
    "    kernel_tot = jax.lax.fori_loop(0, count, increment_kernel_inner, inner_carry)[0]\n",
    "    outer_carry = (kernel_tot, center_xyz, xyz, hashes, counts, sorted_indices, smoothing_length)\n",
    "    return outer_carry\n",
    "\n",
    "@jax.jit\n",
    "def index_to_kernel(index, xyz, o_xyz, hash_map_size, hash_spacing, sorted_indices, counts, smoothing_length):\n",
    "    center_xyz = xyz[index,:]\n",
    "    hashes = xyz_to_hash(center_xyz+o_xyz, hash_map_size, hash_spacing)\n",
    "    outer_carry = (0, center_xyz, xyz, hashes, counts, sorted_indices, smoothing_length)\n",
    "    return jax.lax.fori_loop(0, 27, increment_kernel_outer, outer_carry)[0]\n",
    "\n",
    "index_to_kernel_v = jax.vmap(index_to_kernel,in_axes=(0,None,None,None,None,None,None,None))\n",
    "\n",
    "d_tot = index_to_kernel_v(jnp.arange(0,xyz_size),xyz,o_xyz,hash_map_size,hash_spacing,sorted_indices,counts,spacing)\n",
    "# d_tot = index_to_kernel_v(jnp.arange(1200,1300),xyz,o_xyz,hash_map_size,hash_spacing,sorted_indices,counts,spacing)"
   ]
  },
  {
   "cell_type": "code",
   "execution_count": 89,
   "metadata": {},
   "outputs": [],
   "source": [
    "@partial(jax.jit, static_argnames=[\"hash_map_size\",\"hash_spacing\"])\n",
    "def index_to_hashes(index:         int,\n",
    "                    xyz_global:    jnp.array,\n",
    "                    xyz_offsets:   jnp.array,\n",
    "                    hash_map_size: int,\n",
    "                    hash_spacing:  float):\n",
    "    xyz_local = xyz_global[index,:]\n",
    "    hashes_local = xyz_to_hash(xyz_local+xyz_offsets, hash_map_size, hash_spacing)\n",
    "    return hashes_local\n",
    "\n",
    "indices_to_hashes = jax.vmap(index_to_hashes, in_axes=(0,None,None,None,None))\n",
    "\n",
    "@jax.jit\n",
    "def hash_to_occurances_0D(hash_local:        int,\n",
    "                          occurances_global: jnp.array):\n",
    "    occurances_local = occurances_global[hash_local]\n",
    "    return occurances_local\n",
    "\n",
    "hash_to_occurances_1D = jax.vmap(hash_to_occurances_0D, in_axes=(0,None), out_axes=0)\n",
    "hash_to_occurances_2D = jax.vmap(hash_to_occurances_1D, in_axes=(1,None), out_axes=1)"
   ]
  },
  {
   "cell_type": "code",
   "execution_count": 90,
   "metadata": {},
   "outputs": [
    {
     "data": {
      "text/plain": [
       "(1000000, 27)"
      ]
     },
     "execution_count": 90,
     "metadata": {},
     "output_type": "execute_result"
    }
   ],
   "source": [
    "particle_indices_global = jnp.arange(0,xyz_size)\n",
    "hashes = indices_to_hashes(particle_indices_global, xyz, o_xyz, hash_map_size, hash_spacing)\n",
    "hashes.shape"
   ]
  },
  {
   "cell_type": "markdown",
   "metadata": {},
   "source": [
    "I need a minimum reproducable example to highlight the problem I am having.\n",
    "\n",
    "Can we pre-calculate the offset hashes? - I don't think so."
   ]
  },
  {
   "cell_type": "code",
   "execution_count": 8,
   "metadata": {},
   "outputs": [
    {
     "data": {
      "text/plain": [
       "{'v1': int}"
      ]
     },
     "execution_count": 8,
     "metadata": {},
     "output_type": "execute_result"
    }
   ],
   "source": [
    "test = {\"v1\": int}\n",
    "test"
   ]
  }
 ],
 "metadata": {
  "kernelspec": {
   "display_name": "Python 3",
   "language": "python",
   "name": "python3"
  },
  "language_info": {
   "codemirror_mode": {
    "name": "ipython",
    "version": 3
   },
   "file_extension": ".py",
   "mimetype": "text/x-python",
   "name": "python",
   "nbconvert_exporter": "python",
   "pygments_lexer": "ipython3",
   "version": "3.12.0"
  }
 },
 "nbformat": 4,
 "nbformat_minor": 2
}
