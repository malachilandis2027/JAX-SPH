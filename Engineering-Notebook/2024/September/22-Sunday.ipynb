{
 "cells": [
  {
   "cell_type": "code",
   "execution_count": 9,
   "metadata": {},
   "outputs": [],
   "source": [
    "import jax.numpy as jnp\n",
    "import jax\n",
    "import matplotlib.pyplot as plt"
   ]
  },
  {
   "cell_type": "markdown",
   "metadata": {},
   "source": [
    "One thing I want to be present in JAX-SPH is a automatic mesh generation for some simple shapes. If everything can be written in JAX, then that gives the opportunity to make things end-to-end differentiable.\n",
    "\n",
    "In this notebook, I want to work on:\n",
    "1. Given an input shape (something relatively simple) and a known quantity of particles, distribute those particles within the shape.\n",
    "2. Plot those particles using Paraview."
   ]
  },
  {
   "cell_type": "markdown",
   "metadata": {},
   "source": [
    "First, how to describe a shape? Maybe I can start \"simple\" with a tensile bar. Something complex but useful. Especially knowing the sensitivities w.r.t. thickness, lengths, etc. would be nice. A tensile bar can be described well by lines and ellipses. Plus, it has some symmetry so we only need to worry about one quadrant."
   ]
  },
  {
   "cell_type": "code",
   "execution_count": 10,
   "metadata": {},
   "outputs": [
    {
     "data": {
      "text/plain": [
       "(13839, 3)"
      ]
     },
     "execution_count": 10,
     "metadata": {},
     "output_type": "execute_result"
    }
   ],
   "source": [
    "# all units in [mm]\n",
    "grip_width = 10\n",
    "grip_length = 10\n",
    "gage_width = 5\n",
    "gage_length = 30\n",
    "thickness = 3\n",
    "fillet_major_diameter = 20\n",
    "fillet_minor_diameter = 10\n",
    "ideal_spacing = 0.5 # ideal distance between particles, will be enforced to be less than this\n",
    "\n",
    "# get the center point of the fillet in the first quadrant\n",
    "fillet_center_x = fillet_minor_diameter/2 + gage_width/2\n",
    "fillet_center_y = gage_length/2\n",
    "\n",
    "# get the point where the fillet changes to the grip section\n",
    "fillet_upper_corner_x = grip_width/2\n",
    "fillet_upper_corner_y = ((1 - (grip_width/2 - fillet_center_x)**2 / (fillet_minor_diameter/2)**2) * (fillet_major_diameter/2)**2)**0.5 + fillet_center_y\n",
    "\n",
    "# determine the number of particles in the two \"constant\" directions\n",
    "num_particles_y = int(2*(fillet_upper_corner_y+grip_length)/ideal_spacing)+1\n",
    "num_particles_z = int(thickness/ideal_spacing)+1\n",
    "\n",
    "y = jnp.linspace(-fillet_upper_corner_y-grip_length,fillet_upper_corner_y+grip_length,num_particles_y)\n",
    "z = jnp.linspace(-thickness/2,thickness/2,num_particles_z)\n",
    "\n",
    "condlist = [\n",
    "    jnp.logical_or(y < -fillet_upper_corner_y, y > fillet_upper_corner_y),\n",
    "    jnp.logical_and(y < -gage_length/2, y >= -fillet_upper_corner_y),\n",
    "    jnp.logical_and(y > gage_length/2, y <= fillet_upper_corner_y)\n",
    "]\n",
    "\n",
    "funclist = [\n",
    "    grip_width,\n",
    "    lambda y: (fillet_center_x - ((1 - (y+fillet_center_y)**2 / (fillet_major_diameter/2)**2) * (fillet_minor_diameter/2)**2)**0.5)*2, \n",
    "    lambda y: (fillet_center_x - ((1 - (y-fillet_center_y)**2 / (fillet_major_diameter/2)**2) * (fillet_minor_diameter/2)**2)**0.5)*2, \n",
    "    gage_width\n",
    "]\n",
    "\n",
    "widths = jnp.piecewise(y,condlist,funclist)\n",
    "num_particles_x = (widths/ideal_spacing).astype(int)+1\n",
    "\n",
    "def generate_slice(width, thickness, num_width, num_thick, y_coord):\n",
    "    x = jnp.tile(jnp.linspace(-width/2,width/2,num_width),num_thick)\n",
    "    z = jnp.repeat(jnp.linspace(-thickness/2,thickness/2,num_thick),num_width)\n",
    "    y = jnp.repeat(y_coord, num_thick*num_width)\n",
    "    return jnp.stack([x,y,z],axis=1)\n",
    "\n",
    "for i in range(num_particles_y):\n",
    "    slice_i = generate_slice(widths[i], thickness, num_particles_x[i], num_particles_z, y[i])\n",
    "    if i == 0:\n",
    "        particles = slice_i\n",
    "    else:\n",
    "        particles = jnp.concatenate((particles,slice_i))\n",
    "\n",
    "particles.shape"
   ]
  },
  {
   "cell_type": "code",
   "execution_count": 13,
   "metadata": {},
   "outputs": [],
   "source": [
    "# Intensive to load here, just forewarning...\n",
    "\n",
    "import pyvista\n",
    "import numpy as onp\n",
    "pyvista.set_jupyter_backend('client')"
   ]
  },
  {
   "cell_type": "code",
   "execution_count": 15,
   "metadata": {},
   "outputs": [],
   "source": [
    "pdata = pyvista.PolyData(onp.array(particles))\n",
    "sphere = pyvista.Sphere(radius = ideal_spacing/2)\n",
    "pc = pdata.glyph(scale=False, geom=sphere, orient=False)\n",
    "# pc.plot()\n",
    "pc.save(\"test.vtk\")"
   ]
  }
 ],
 "metadata": {
  "kernelspec": {
   "display_name": "Python 3",
   "language": "python",
   "name": "python3"
  },
  "language_info": {
   "codemirror_mode": {
    "name": "ipython",
    "version": 3
   },
   "file_extension": ".py",
   "mimetype": "text/x-python",
   "name": "python",
   "nbconvert_exporter": "python",
   "pygments_lexer": "ipython3",
   "version": "3.12.0"
  }
 },
 "nbformat": 4,
 "nbformat_minor": 2
}
