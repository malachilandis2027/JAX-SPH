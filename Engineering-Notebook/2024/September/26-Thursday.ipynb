{
 "cells": [
  {
   "cell_type": "markdown",
   "metadata": {},
   "source": [
    "Continuing on the Neighborhood Search stuff from yesterday, but using a simplified example \"mesh\""
   ]
  },
  {
   "cell_type": "code",
   "execution_count": 101,
   "metadata": {},
   "outputs": [],
   "source": [
    "import jax\n",
    "import jax.numpy as jnp\n",
    "import numpy as onp\n",
    "import pyvista\n",
    "import matplotlib.pyplot as plt\n",
    "from functools import partial"
   ]
  },
  {
   "cell_type": "markdown",
   "metadata": {},
   "source": [
    "Generate a simple cube."
   ]
  },
  {
   "cell_type": "code",
   "execution_count": 102,
   "metadata": {},
   "outputs": [
    {
     "data": {
      "text/plain": [
       "1000000"
      ]
     },
     "execution_count": 102,
     "metadata": {},
     "output_type": "execute_result"
    }
   ],
   "source": [
    "spacing = 1\n",
    "edge_size = 100\n",
    "p = int(edge_size/spacing)\n",
    "x = jnp.repeat(jnp.repeat(jnp.linspace(0,edge_size,p),p),p)\n",
    "y = jnp.repeat(jnp.tile(jnp.linspace(0,edge_size,p),p),p)\n",
    "z = jnp.tile(jnp.tile(jnp.linspace(0,edge_size,p),p),p)\n",
    "xyz = jnp.stack([x,y,z],axis=1)\n",
    "xyz_size = xyz.shape[0]\n",
    "xyz_size"
   ]
  },
  {
   "cell_type": "markdown",
   "metadata": {},
   "source": [
    "Plot point cloud."
   ]
  },
  {
   "cell_type": "code",
   "execution_count": 103,
   "metadata": {},
   "outputs": [],
   "source": [
    "# points = onp.array(xyz)\n",
    "# pyvista.plot(\n",
    "#     points,\n",
    "#     render_points_as_spheres=True,\n",
    "#     point_size=20,\n",
    "#     show_scalar_bar=False,\n",
    "# )"
   ]
  },
  {
   "cell_type": "markdown",
   "metadata": {},
   "source": [
    "We need a hash function that converts from a 3D position to a 1D index. We also need a function that does the inverse, although it isn't a direct conversion since hash collisions are possible. That's the reason for the sorting and storage of an offset for each hash value."
   ]
  },
  {
   "cell_type": "code",
   "execution_count": 104,
   "metadata": {},
   "outputs": [],
   "source": [
    "@partial(jax.jit, static_argnames=[\"hash_map_size\",\"spacing\",\"prime_1\",\"prime_2\",\"prime_3\"])\n",
    "def xyz_to_hash(xyz_location:  jnp.array,\n",
    "                hash_map_size: int,\n",
    "                spacing:       float,\n",
    "                prime_1 = 73856093,\n",
    "                prime_2 = 19349663,\n",
    "                prime_3 = 83492791\n",
    "                ) -> jnp.array:\n",
    "    '''\n",
    "    Converts [N,3] array of xyz coordinates to an [N,] array of hash keys\n",
    "    '''\n",
    "    primes = jnp.array([prime_1,prime_2,prime_3])\n",
    "    alpha = jnp.floor(xyz_location/spacing).astype(int)*primes[None,:]\n",
    "    beta = jnp.bitwise_xor(jnp.bitwise_xor(alpha[:,0],alpha[:,1]),alpha[:,2])\n",
    "    hash_keys = jnp.mod(beta,hash_map_size)\n",
    "    return hash_keys\n",
    "\n",
    "@partial(jax.jit, static_argnames=[\"hash_map_size\"])\n",
    "def process_hash(hash_keys:     jnp.array,\n",
    "                 hash_map_size: int):\n",
    "    sorted_indices = jnp.argsort(hash_keys)\n",
    "    sorted_hash_keys = hash_keys[sorted_indices]\n",
    "    counts = jnp.bincount(sorted_hash_keys, length=hash_map_size)\n",
    "    offsets = jnp.cumsum(counts) - counts\n",
    "    return [sorted_indices, sorted_hash_keys, counts, offsets]\n",
    "\n",
    "@jax.jit\n",
    "def hash_to_count(hash:   int,\n",
    "                  counts: jnp.array):\n",
    "    count = counts[hash]\n",
    "    return count\n",
    "\n",
    "@jax.jit\n",
    "def hash_to_xyz(hash:           int,\n",
    "                increment:      int,\n",
    "                xyz:            jnp.array,\n",
    "                sorted_indices: jnp.array,\n",
    "                offsets:        jnp.array):\n",
    "    xyz_location = xyz[sorted_indices[offsets[hash] + increment]]\n",
    "    return xyz_location"
   ]
  },
  {
   "cell_type": "code",
   "execution_count": 105,
   "metadata": {},
   "outputs": [],
   "source": [
    "hash_map_size = xyz_size*2\n",
    "hash_spacing = 2*spacing\n",
    "hash_keys = xyz_to_hash(xyz,hash_map_size,hash_spacing)\n",
    "sorted_indices, sorted_hash_keys, counts, offsets = process_hash(hash_keys, hash_map_size)"
   ]
  },
  {
   "cell_type": "markdown",
   "metadata": {},
   "source": [
    "To do the actual kernel calculations, we need the neighbors in a box around the main point of interest."
   ]
  },
  {
   "cell_type": "code",
   "execution_count": 106,
   "metadata": {},
   "outputs": [],
   "source": [
    "o = jnp.array([-hash_spacing,0,hash_spacing])\n",
    "o_x = jnp.repeat(jnp.repeat(o,3),3)\n",
    "o_y = jnp.repeat(jnp.tile(o,3),3)\n",
    "o_z = jnp.tile(jnp.tile(o,3),3)\n",
    "o_xyz = jnp.stack([o_x,o_y,o_z],axis=1)"
   ]
  },
  {
   "cell_type": "code",
   "execution_count": 107,
   "metadata": {},
   "outputs": [],
   "source": [
    "@jax.jit\n",
    "def increment_distance_inner(i,inner_carry):\n",
    "    distance, center_xyz, xyz, hash, sorted_indices, offsets = inner_carry\n",
    "    other_xyz = hash_to_xyz(hash, i, xyz, sorted_indices, offsets)\n",
    "    distance = distance + jnp.sqrt(jnp.sum(jnp.square(center_xyz - other_xyz)))\n",
    "    inner_carry = (distance, center_xyz, xyz, hash, sorted_indices, offsets)\n",
    "    return inner_carry\n",
    "\n",
    "@jax.jit\n",
    "def increment_distance_outer(i,outer_carry):\n",
    "    distance, center_xyz, xyz, hashes, counts, sorted_indices = outer_carry\n",
    "    hash = hashes[i]\n",
    "    count = counts[i]\n",
    "    inner_carry = (distance, center_xyz, xyz, hash, sorted_indices, offsets)\n",
    "    distance = jax.lax.fori_loop(0, count, increment_distance_inner, inner_carry)[0]\n",
    "    outer_carry = (distance, center_xyz, xyz, hashes, counts, sorted_indices)\n",
    "    return outer_carry\n",
    "\n",
    "@jax.jit\n",
    "def index_to_dist(index,xyz,o_xyz,hash_map_size,hash_spacing,sorted_indices,counts):\n",
    "    center_xyz = xyz[index,:]\n",
    "    hashes = xyz_to_hash(center_xyz+o_xyz, hash_map_size, hash_spacing)\n",
    "    outer_carry = (0, center_xyz, xyz, hashes, counts, sorted_indices)\n",
    "    return jax.lax.fori_loop(0, 27, increment_distance_outer, outer_carry)[0]"
   ]
  },
  {
   "cell_type": "markdown",
   "metadata": {},
   "source": [
    "Note from the next day: the above is not correct 😔\n",
    "\n",
    "Need to fix the counts"
   ]
  },
  {
   "cell_type": "code",
   "execution_count": 108,
   "metadata": {},
   "outputs": [
    {
     "data": {
      "text/plain": [
       "Array(1622.2957, dtype=float32)"
      ]
     },
     "execution_count": 108,
     "metadata": {},
     "output_type": "execute_result"
    }
   ],
   "source": [
    "index_to_dist(1234,xyz,o_xyz,hash_map_size,hash_spacing,sorted_indices,counts)"
   ]
  },
  {
   "cell_type": "code",
   "execution_count": 109,
   "metadata": {},
   "outputs": [],
   "source": [
    "index_to_dist_v = jax.vmap(index_to_dist,in_axes=(0,None,None,None,None,None,None))"
   ]
  },
  {
   "cell_type": "code",
   "execution_count": 110,
   "metadata": {},
   "outputs": [],
   "source": [
    "d_tot = index_to_dist_v(jnp.arange(0,xyz_size),xyz,o_xyz,hash_map_size,spacing,sorted_indices,counts)"
   ]
  },
  {
   "cell_type": "markdown",
   "metadata": {},
   "source": [
    "OK this code seems to be working decently fast, at least for up to the 125k points I have tried. And that is for not just the neighborhood construction but also the evaluation. It seems that I will need to press all the kernel evaluation stuff into those three functions. \n",
    "\n",
    "Now we need to implement a kernel function of some sort. It should take in the distance between the point of interest and a target point, as well as the smoothing length. From Monaghan's 2005 paper (page 9):"
   ]
  },
  {
   "cell_type": "code",
   "execution_count": 111,
   "metadata": {},
   "outputs": [],
   "source": [
    "@jax.jit\n",
    "def kernel(distance, smoothing_length):\n",
    "    q = distance/smoothing_length\n",
    "    M = jnp.piecewise(q,[q<2,q<1],[(2-q)**3, (2-q)**3 - 4*(1-q)**3, 0])\n",
    "    return (1/(4*jnp.pi))*M\n",
    "\n",
    "kernel_v = jax.vmap(kernel,in_axes=(0,None))"
   ]
  },
  {
   "cell_type": "code",
   "execution_count": 112,
   "metadata": {},
   "outputs": [
    {
     "data": {
      "text/plain": [
       "[<matplotlib.lines.Line2D at 0x266e2e414c0>]"
      ]
     },
     "execution_count": 112,
     "metadata": {},
     "output_type": "execute_result"
    },
    {
     "data": {
      "image/png": "[encoded data removed]",
      "text/plain": [
       "<Figure size 640x480 with 1 Axes>"
      ]
     },
     "metadata": {},
     "output_type": "display_data"
    }
   ],
   "source": [
    "x = jnp.linspace(0,1.5,100)\n",
    "y = kernel_v(x,0.5)\n",
    "plt.plot(x,y)"
   ]
  }
 ],
 "metadata": {
  "kernelspec": {
   "display_name": "Python 3",
   "language": "python",
   "name": "python3"
  },
  "language_info": {
   "codemirror_mode": {
    "name": "ipython",
    "version": 3
   },
   "file_extension": ".py",
   "mimetype": "text/x-python",
   "name": "python",
   "nbconvert_exporter": "python",
   "pygments_lexer": "ipython3",
   "version": "3.12.0"
  }
 },
 "nbformat": 4,
 "nbformat_minor": 2
}
