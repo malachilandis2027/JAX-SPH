{
 "cells": [
  {
   "cell_type": "markdown",
   "metadata": {},
   "source": [
    "Started today on a detailed literature review of SPH. I really want to understand all the different aspects that will go into the final program. Mainly, I need to evaluate whether each aspect can be handled by JAX.\n",
    "\n",
    "One thing I want to try is doing LaTeX through VS Code. I installed an extension (LaTeX Workshop by James Yu) along with TexLive. Should allow me to more easily do the bibliography stuff now so the paper will be easier later.\n",
    "\n"
   ]
  },
  {
   "cell_type": "markdown",
   "metadata": {},
   "source": []
  }
 ],
 "metadata": {
  "language_info": {
   "name": "python"
  }
 },
 "nbformat": 4,
 "nbformat_minor": 2
}
