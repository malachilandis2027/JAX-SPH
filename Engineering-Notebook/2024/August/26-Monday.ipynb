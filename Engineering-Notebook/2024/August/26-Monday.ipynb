{
 "cells": [
  {
   "cell_type": "markdown",
   "metadata": {},
   "source": [
    "Haven't worked on this much recently, but want to get some links down.\n",
    "\n",
    "Look over the validation stuff from the other JAX-SPH library: https://github.com/tumaer/jax-sph\n",
    "I can get started on building these tests which will need to be demonstrated at some point.\n",
    "\n",
    "ArXiv link: https://arxiv.org/pdf/2403.04750\n",
    "\n",
    "Good tutorial: https://sph-tutorial.physics-simulation.org/pdf/SPH_Tutorial.pdf\n",
    "Citation from that: https://matthias-research.github.io/pages/publications/sca03.pdf\n",
    "\n"
   ]
  }
 ],
 "metadata": {
  "language_info": {
   "name": "python"
  }
 },
 "nbformat": 4,
 "nbformat_minor": 2
}
