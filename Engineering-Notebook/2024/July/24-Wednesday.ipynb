{
 "cells": [
  {
   "cell_type": "markdown",
   "metadata": {},
   "source": [
    "Today is Wednesday, July 24, 2024."
   ]
  },
  {
   "cell_type": "markdown",
   "metadata": {},
   "source": [
    "# First Entry\n",
    "\n",
    "I am going to try using these Jupyter Notebooks as a way to record my progress working on this project. Each day, I should create a new entry (or copy + build on a previous). We will see how this goes."
   ]
  },
  {
   "cell_type": "markdown",
   "metadata": {},
   "source": [
    "# How do you build a large Python application?\n",
    "\n",
    "I want to build a good piece of code (see overview document), and I am not sure how best to go about it. Starting with a google search:\n",
    "\n",
    "https://docs.python-guide.org/writing/structure/#the-actual-module \n",
    "\n",
    "Looks to be a good reference on developing a large project. One thing I will need to look at more is unit testing. Python has `unittest` and `doctest` by default, but I should see if there are better libraries out there.\n",
    "\n"
   ]
  },
  {
   "cell_type": "markdown",
   "metadata": {},
   "source": [
    "# Preparing for eventual PIPing\n",
    "\n",
    "I want my code to be installable with PIP, so I will need to follow some of their rules."
   ]
  },
  {
   "cell_type": "markdown",
   "metadata": {},
   "source": [
    "List of things to work on in the future:\n",
    "- More research into large projects on Github.\n",
    "    - Continuous Integration (CI)\n",
    "    - Do I need to make a Wiki?"
   ]
  },
  {
   "cell_type": "markdown",
   "metadata": {
    "vscode": {
     "languageId": "plaintext"
    }
   },
   "source": [
    "Found this interesting project using JAX:\n",
    "\n",
    "https://github.com/Autodesk/XLB?tab=readme-ov-file \n",
    "\n",
    "And an alternative approach to JAX:\n",
    "\n",
    "https://github.com/NVIDIA/warp\n",
    "\n",
    "It seems to target simulation problems better than JAX."
   ]
  }
 ],
 "metadata": {
  "language_info": {
   "name": "python"
  }
 },
 "nbformat": 4,
 "nbformat_minor": 2
}
